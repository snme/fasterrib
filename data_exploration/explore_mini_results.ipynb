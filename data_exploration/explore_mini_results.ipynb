{
 "cells": [
  {
   "cell_type": "code",
   "execution_count": 1,
   "id": "f74ad8f2",
   "metadata": {},
   "outputs": [],
   "source": [
    "import os\n",
    "import numpy as np\n",
    "import nibabel as nib\n",
    "import matplotlib.pyplot as plt\n",
    "from skimage import exposure\n",
    "from nilearn import plotting\n",
    "%matplotlib inline\n",
    "import csv\n",
    "import torch"
   ]
  },
  {
   "cell_type": "code",
   "execution_count": 2,
   "id": "ee7aff7d",
   "metadata": {},
   "outputs": [],
   "source": [
    "train_info_path = \"../data/ribfrac-challenge/training/ribfrac-train-info-all.csv\"\n",
    "\n",
    "label_map = {}\n",
    "with open(train_info_path, newline=\"\") as f:\n",
    "    reader = csv.DictReader(f, delimiter=\",\")\n",
    "    for row in reader:\n",
    "        public_id = row[\"public_id\"]\n",
    "        label_id = int(row[\"label_id\"])\n",
    "        code = int(row[\"label_code\"])\n",
    "\n",
    "        if public_id not in label_map:\n",
    "            label_map[public_id] = {}\n",
    "\n",
    "        label_map[public_id][label_id] = code"
   ]
  },
  {
   "cell_type": "code",
   "execution_count": 3,
   "id": "bbf4cbde",
   "metadata": {},
   "outputs": [],
   "source": [
    "public_id = 'RibFrac1'"
   ]
  },
  {
   "cell_type": "code",
   "execution_count": 4,
   "id": "09ec634e",
   "metadata": {},
   "outputs": [],
   "source": [
    "labels = nib.load(f'../data/ribfrac-challenge/mini/labels/{public_id}-label.nii.gz').get_fdata()\n",
    "labels = torch.tensor(labels)\n",
    "labels = labels.apply_(label_map[public_id].get).numpy()"
   ]
  },
  {
   "cell_type": "code",
   "execution_count": 5,
   "id": "2e643010",
   "metadata": {},
   "outputs": [],
   "source": [
    "img = nib.load(f'../data/ribfrac-challenge/mini/images/{public_id}-image.nii.gz').get_fdata()"
   ]
  },
  {
   "cell_type": "code",
   "execution_count": 6,
   "id": "96419175",
   "metadata": {},
   "outputs": [],
   "source": [
    "prediction = np.load(f'../inference-results-mini/{public_id}-image-prediction.npy')"
   ]
  },
  {
   "cell_type": "code",
   "execution_count": 7,
   "id": "9b96cc79",
   "metadata": {},
   "outputs": [],
   "source": [
    "probs = np.load(f'../inference-results-mini/{public_id}-image-bin-probs.npy')"
   ]
  },
  {
   "cell_type": "code",
   "execution_count": 8,
   "id": "fc83bc79",
   "metadata": {},
   "outputs": [
    {
     "name": "stdout",
     "output_type": "stream",
     "text": [
      "label image shape: (512, 512, 333)\n"
     ]
    }
   ],
   "source": [
    "print(\"label image shape:\", prediction.shape)"
   ]
  },
  {
   "cell_type": "code",
   "execution_count": 9,
   "id": "a4cb2b2d",
   "metadata": {},
   "outputs": [
    {
     "name": "stdout",
     "output_type": "stream",
     "text": [
      "0.0\n",
      "2.0\n"
     ]
    }
   ],
   "source": [
    "print(labels.min())\n",
    "print(labels.max())\n"
   ]
  },
  {
   "cell_type": "code",
   "execution_count": 10,
   "id": "3970b148",
   "metadata": {},
   "outputs": [
    {
     "data": {
      "text/plain": [
       "(512, 512, 333)"
      ]
     },
     "execution_count": 10,
     "metadata": {},
     "output_type": "execute_result"
    }
   ],
   "source": [
    "img.shape"
   ]
  },
  {
   "cell_type": "code",
   "execution_count": 11,
   "id": "3e38abb2",
   "metadata": {},
   "outputs": [
    {
     "data": {
      "text/plain": [
       "(array([   0.,    0.,    0.,    0.,    0., 8261.,    0.,    0.,    0.,\n",
       "           0.]),\n",
       " array([1.5, 1.6, 1.7, 1.8, 1.9, 2. , 2.1, 2.2, 2.3, 2.4, 2.5]),\n",
       " <BarContainer object of 10 artists>)"
      ]
     },
     "execution_count": 11,
     "metadata": {},
     "output_type": "execute_result"
    },
    {
     "data": {
      "image/png": "[encoded data removed]",
      "text/plain": [
       "<Figure size 432x288 with 1 Axes>"
      ]
     },
     "metadata": {
      "needs_background": "light"
     },
     "output_type": "display_data"
    }
   ],
   "source": [
    "plt.hist(labels[labels != 0].flatten())"
   ]
  },
  {
   "cell_type": "code",
   "execution_count": 12,
   "id": "a232cd1b",
   "metadata": {},
   "outputs": [
    {
     "data": {
      "text/plain": [
       "(array([8.7283258e+07, 0.0000000e+00, 0.0000000e+00, 0.0000000e+00,\n",
       "        0.0000000e+00, 0.0000000e+00, 0.0000000e+00, 0.0000000e+00,\n",
       "        0.0000000e+00, 1.0694000e+04]),\n",
       " array([1. , 1.2, 1.4, 1.6, 1.8, 2. , 2.2, 2.4, 2.6, 2.8, 3. ],\n",
       "       dtype=float32),\n",
       " <BarContainer object of 10 artists>)"
      ]
     },
     "execution_count": 12,
     "metadata": {},
     "output_type": "execute_result"
    },
    {
     "data": {
      "image/png": "[encoded data removed]",
      "text/plain": [
       "<Figure size 432x288 with 1 Axes>"
      ]
     },
     "metadata": {
      "needs_background": "light"
     },
     "output_type": "display_data"
    }
   ],
   "source": [
    "plt.hist(prediction.flatten())"
   ]
  },
  {
   "cell_type": "code",
   "execution_count": 13,
   "id": "98cc773d",
   "metadata": {},
   "outputs": [
    {
     "data": {
      "text/plain": [
       "<matplotlib.image.AxesImage at 0x7f5822127a90>"
      ]
     },
     "execution_count": 13,
     "metadata": {},
     "output_type": "execute_result"
    },
    {
     "data": {
      "image/png": "[encoded data removed]",
      "text/plain": [
       "<Figure size 600x600 with 1 Axes>"
      ]
     },
     "metadata": {
      "needs_background": "light"
     },
     "output_type": "display_data"
    }
   ],
   "source": [
    "plt.figure(figsize = (6,6), dpi=100) \n",
    "labels_plt = np.max(labels, axis=-1)\n",
    "plt.imshow(labels_plt, cmap=plt.cm.gray) \n"
   ]
  },
  {
   "cell_type": "code",
   "execution_count": 14,
   "id": "d33250bd",
   "metadata": {},
   "outputs": [
    {
     "name": "stdout",
     "output_type": "stream",
     "text": [
      "(512, 512, 333)\n",
      "(512, 512)\n"
     ]
    },
    {
     "data": {
      "text/plain": [
       "<matplotlib.image.AxesImage at 0x7f5822091fd0>"
      ]
     },
     "execution_count": 14,
     "metadata": {},
     "output_type": "execute_result"
    },
    {
     "data": {
      "image/png": "[encoded data removed]",
      "text/plain": [
       "<Figure size 600x600 with 1 Axes>"
      ]
     },
     "metadata": {
      "needs_background": "light"
     },
     "output_type": "display_data"
    }
   ],
   "source": [
    "plt.figure(figsize = (6,6), dpi=100) \n",
    "print(prediction.shape)\n",
    "combined_slices = np.max(prediction > 1, axis=-1)\n",
    "print(combined_slices.shape)\n",
    "plt.imshow(combined_slices, cmap=plt.cm.gray) "
   ]
  },
  {
   "cell_type": "code",
   "execution_count": 15,
   "id": "2eb0f320",
   "metadata": {},
   "outputs": [
    {
     "data": {
      "text/plain": [
       "<matplotlib.image.AxesImage at 0x7f5822078d60>"
      ]
     },
     "execution_count": 15,
     "metadata": {},
     "output_type": "execute_result"
    },
    {
     "data": {
      "image/png": "[encoded data removed]",
      "text/plain": [
       "<Figure size 600x600 with 1 Axes>"
      ]
     },
     "metadata": {
      "needs_background": "light"
     },
     "output_type": "display_data"
    }
   ],
   "source": [
    "# plot probs\n",
    "plt.figure(figsize = (6,6), dpi=100) \n",
    "combined_slices = np.max(probs, axis=-1)\n",
    "plt.imshow(combined_slices, cmap=plt.cm.gray) "
   ]
  }
 ],
 "metadata": {
  "kernelspec": {
   "display_name": "Python 3 (ipykernel)",
   "language": "python",
   "name": "python3"
  },
  "language_info": {
   "codemirror_mode": {
    "name": "ipython",
    "version": 3
   },
   "file_extension": ".py",
   "mimetype": "text/x-python",
   "name": "python",
   "nbconvert_exporter": "python",
   "pygments_lexer": "ipython3",
   "version": "3.9.12"
  }
 },
 "nbformat": 4,
 "nbformat_minor": 5
}
