{
 "cells": [
  {
   "cell_type": "code",
   "execution_count": 1,
   "id": "baca014c",
   "metadata": {},
   "outputs": [],
   "source": [
    "# this following line tells Jupyter to display images here in the browser, \n",
    "# rather than in separate window.\n",
    "\n",
    "%matplotlib inline \n",
    "\n",
    "# import pydicom library\n",
    "\n",
    "import pydicom\n",
    "\n",
    "# import matplotlib and numpy\n",
    "\n",
    "import matplotlib.pyplot as plt \n",
    "import matplotlib.image as mpimage\n",
    "import numpy as np "
   ]
  },
  {
   "cell_type": "code",
   "execution_count": 2,
   "id": "0044a068",
   "metadata": {},
   "outputs": [],
   "source": [
    "# load some handy functions from the scikit-image library\n",
    "\n",
    "from skimage import exposure\n",
    "import skimage.morphology as morp\n",
    "from skimage.filters import rank\n",
    "\n",
    "# import operating system and glob libraries\n",
    "\n",
    "import os, glob\n",
    "\n",
    "# import some useful date functions\n",
    "\n",
    "from datetime import datetime"
   ]
  },
  {
   "cell_type": "code",
   "execution_count": 3,
   "id": "ed0ba1ec",
   "metadata": {},
   "outputs": [
    {
     "ename": "FileNotFoundError",
     "evalue": "[Errno 2] No such file or directory: '../data/stanford/irb58665-rit/batch2/dicom/1.2.840.4267.32.249554526247608828169351088239357761975/1.2.840.4267.32.135286486061927350955429328992883753190/000006-1.2.840.4267.32.92520118529333365957403211007137816924.dcm'",
     "output_type": "error",
     "traceback": [
      "\u001b[0;31m---------------------------------------------------------------------------\u001b[0m",
      "\u001b[0;31mFileNotFoundError\u001b[0m                         Traceback (most recent call last)",
      "Input \u001b[0;32mIn [3]\u001b[0m, in \u001b[0;36m<cell line: 1>\u001b[0;34m()\u001b[0m\n\u001b[0;32m----> 1\u001b[0m ds1 \u001b[38;5;241m=\u001b[39m \u001b[43mpydicom\u001b[49m\u001b[38;5;241;43m.\u001b[39;49m\u001b[43mread_file\u001b[49m\u001b[43m(\u001b[49m\u001b[38;5;124;43m\"\u001b[39;49m\u001b[38;5;124;43m../data/stanford/irb58665-rit/batch2/dicom/1.2.840.4267.32.249554526247608828169351088239357761975/1.2.840.4267.32.135286486061927350955429328992883753190/000006-1.2.840.4267.32.92520118529333365957403211007137816924.dcm\u001b[39;49m\u001b[38;5;124;43m\"\u001b[39;49m\u001b[43m)\u001b[49m\n",
      "File \u001b[0;32m~/miniconda3/lib/python3.8/site-packages/pydicom/filereader.py:993\u001b[0m, in \u001b[0;36mdcmread\u001b[0;34m(fp, defer_size, stop_before_pixels, force, specific_tags)\u001b[0m\n\u001b[1;32m    991\u001b[0m     caller_owns_file \u001b[38;5;241m=\u001b[39m \u001b[38;5;28;01mFalse\u001b[39;00m\n\u001b[1;32m    992\u001b[0m     logger\u001b[38;5;241m.\u001b[39mdebug(\u001b[38;5;124m\"\u001b[39m\u001b[38;5;124mReading file \u001b[39m\u001b[38;5;124m'\u001b[39m\u001b[38;5;132;01m{0}\u001b[39;00m\u001b[38;5;124m'\u001b[39m\u001b[38;5;124m\"\u001b[39m\u001b[38;5;241m.\u001b[39mformat(fp))\n\u001b[0;32m--> 993\u001b[0m     fp \u001b[38;5;241m=\u001b[39m \u001b[38;5;28;43mopen\u001b[39;49m\u001b[43m(\u001b[49m\u001b[43mfp\u001b[49m\u001b[43m,\u001b[49m\u001b[43m \u001b[49m\u001b[38;5;124;43m'\u001b[39;49m\u001b[38;5;124;43mrb\u001b[39;49m\u001b[38;5;124;43m'\u001b[39;49m\u001b[43m)\u001b[49m\n\u001b[1;32m    994\u001b[0m \u001b[38;5;28;01melif\u001b[39;00m fp \u001b[38;5;129;01mis\u001b[39;00m \u001b[38;5;28;01mNone\u001b[39;00m \u001b[38;5;129;01mor\u001b[39;00m \u001b[38;5;129;01mnot\u001b[39;00m \u001b[38;5;28mhasattr\u001b[39m(fp, \u001b[38;5;124m\"\u001b[39m\u001b[38;5;124mread\u001b[39m\u001b[38;5;124m\"\u001b[39m) \u001b[38;5;129;01mor\u001b[39;00m \u001b[38;5;129;01mnot\u001b[39;00m \u001b[38;5;28mhasattr\u001b[39m(fp, \u001b[38;5;124m\"\u001b[39m\u001b[38;5;124mseek\u001b[39m\u001b[38;5;124m\"\u001b[39m):\n\u001b[1;32m    995\u001b[0m     \u001b[38;5;28;01mraise\u001b[39;00m \u001b[38;5;167;01mTypeError\u001b[39;00m(\u001b[38;5;124m\"\u001b[39m\u001b[38;5;124mdcmread: Expected a file path or a file-like, \u001b[39m\u001b[38;5;124m\"\u001b[39m\n\u001b[1;32m    996\u001b[0m                     \u001b[38;5;124m\"\u001b[39m\u001b[38;5;124mbut got \u001b[39m\u001b[38;5;124m\"\u001b[39m \u001b[38;5;241m+\u001b[39m \u001b[38;5;28mtype\u001b[39m(fp)\u001b[38;5;241m.\u001b[39m\u001b[38;5;18m__name__\u001b[39m)\n",
      "\u001b[0;31mFileNotFoundError\u001b[0m: [Errno 2] No such file or directory: '../data/stanford/irb58665-rit/batch2/dicom/1.2.840.4267.32.249554526247608828169351088239357761975/1.2.840.4267.32.135286486061927350955429328992883753190/000006-1.2.840.4267.32.92520118529333365957403211007137816924.dcm'"
     ]
    }
   ],
   "source": [
    "ds1 = pydicom.read_file(\"../data/stanford/irb58665-rit/batch2/dicom/1.2.840.4267.32.249554526247608828169351088239357761975/1.2.840.4267.32.135286486061927350955429328992883753190/000006-1.2.840.4267.32.92520118529333365957403211007137816924.dcm\")  # read the DICOM image into memory\n"
   ]
  },
  {
   "cell_type": "code",
   "execution_count": null,
   "id": "3f3e57de",
   "metadata": {},
   "outputs": [],
   "source": [
    "# tell matplotlib to display our images as a 6 x 6 inch image, with resolution of 100 dpi\n",
    "plt.figure(figsize = (6,6), dpi=100) \n",
    "\n",
    "# tell matplotlib to display our image, using a gray-scale lookup table.\n",
    "plt.imshow(ds1.pixel_array, cmap=plt.cm.gray) "
   ]
  },
  {
   "cell_type": "code",
   "execution_count": null,
   "id": "b543facd",
   "metadata": {},
   "outputs": [],
   "source": [
    "ds1"
   ]
  },
  {
   "cell_type": "code",
   "execution_count": null,
   "id": "f391e34f",
   "metadata": {},
   "outputs": [],
   "source": [
    "ds1.dir(\"patient\")\n"
   ]
  },
  {
   "cell_type": "code",
   "execution_count": null,
   "id": "547e743b",
   "metadata": {},
   "outputs": [],
   "source": [
    "ds1.PatientName # show patient name"
   ]
  },
  {
   "cell_type": "code",
   "execution_count": null,
   "id": "5390e89e",
   "metadata": {},
   "outputs": [],
   "source": [
    "ds1.PatientAge # show patient's age at time of scan"
   ]
  },
  {
   "cell_type": "code",
   "execution_count": null,
   "id": "667a0858",
   "metadata": {},
   "outputs": [],
   "source": []
  }
 ],
 "metadata": {
  "kernelspec": {
   "display_name": "Python 3 (ipykernel)",
   "language": "python",
   "name": "python3"
  },
  "language_info": {
   "codemirror_mode": {
    "name": "ipython",
    "version": 3
   },
   "file_extension": ".py",
   "mimetype": "text/x-python",
   "name": "python",
   "nbconvert_exporter": "python",
   "pygments_lexer": "ipython3",
   "version": "3.8.12"
  }
 },
 "nbformat": 4,
 "nbformat_minor": 5
}
