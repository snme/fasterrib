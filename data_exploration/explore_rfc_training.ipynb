{
 "cells": [
  {
   "cell_type": "code",
   "execution_count": 1,
   "id": "f74ad8f2",
   "metadata": {},
   "outputs": [],
   "source": [
    "import os\n",
    "import numpy as np\n",
    "import nibabel as nib\n",
    "import matplotlib.pyplot as plt\n",
    "from skimage import exposure\n",
    "from nilearn import plotting\n",
    "%matplotlib inline\n"
   ]
  },
  {
   "cell_type": "code",
   "execution_count": 3,
   "id": "96419175",
   "metadata": {},
   "outputs": [
    {
     "ename": "FileNotFoundError",
     "evalue": "No such file or no access: '../data/training/ribfrac-challenge/training/images/all/RibFrac1-image.nii.gz'",
     "output_type": "error",
     "traceback": [
      "\u001b[0;31m---------------------------------------------------------------------------\u001b[0m",
      "\u001b[0;31mFileNotFoundError\u001b[0m                         Traceback (most recent call last)",
      "File \u001b[0;32m~/miniconda3/lib/python3.8/site-packages/nibabel/loadsave.py:42\u001b[0m, in \u001b[0;36mload\u001b[0;34m(filename, **kwargs)\u001b[0m\n\u001b[1;32m     41\u001b[0m \u001b[38;5;28;01mtry\u001b[39;00m:\n\u001b[0;32m---> 42\u001b[0m     stat_result \u001b[38;5;241m=\u001b[39m \u001b[43mos\u001b[49m\u001b[38;5;241;43m.\u001b[39;49m\u001b[43mstat\u001b[49m\u001b[43m(\u001b[49m\u001b[43mfilename\u001b[49m\u001b[43m)\u001b[49m\n\u001b[1;32m     43\u001b[0m \u001b[38;5;28;01mexcept\u001b[39;00m \u001b[38;5;167;01mOSError\u001b[39;00m:\n",
      "\u001b[0;31mFileNotFoundError\u001b[0m: [Errno 2] No such file or directory: '../data/training/ribfrac-challenge/training/images/all/RibFrac1-image.nii.gz'",
      "\nDuring handling of the above exception, another exception occurred:\n",
      "\u001b[0;31mFileNotFoundError\u001b[0m                         Traceback (most recent call last)",
      "Input \u001b[0;32mIn [3]\u001b[0m, in \u001b[0;36m<cell line: 1>\u001b[0;34m()\u001b[0m\n\u001b[0;32m----> 1\u001b[0m train_img \u001b[38;5;241m=\u001b[39m \u001b[43mnib\u001b[49m\u001b[38;5;241;43m.\u001b[39;49m\u001b[43mload\u001b[49m\u001b[43m(\u001b[49m\u001b[38;5;124;43m'\u001b[39;49m\u001b[38;5;124;43m../data/training/ribfrac-challenge/training/images/all/RibFrac1-image.nii.gz\u001b[39;49m\u001b[38;5;124;43m'\u001b[39;49m\u001b[43m)\u001b[49m\n\u001b[1;32m      2\u001b[0m label_img \u001b[38;5;241m=\u001b[39m nib\u001b[38;5;241m.\u001b[39mload(\u001b[38;5;124m'\u001b[39m\u001b[38;5;124m../data/training/ribfrac-challenge/training/labels/all/RibFrac1-label.nii.gz\u001b[39m\u001b[38;5;124m'\u001b[39m)\n",
      "File \u001b[0;32m~/miniconda3/lib/python3.8/site-packages/nibabel/loadsave.py:44\u001b[0m, in \u001b[0;36mload\u001b[0;34m(filename, **kwargs)\u001b[0m\n\u001b[1;32m     42\u001b[0m     stat_result \u001b[38;5;241m=\u001b[39m os\u001b[38;5;241m.\u001b[39mstat(filename)\n\u001b[1;32m     43\u001b[0m \u001b[38;5;28;01mexcept\u001b[39;00m \u001b[38;5;167;01mOSError\u001b[39;00m:\n\u001b[0;32m---> 44\u001b[0m     \u001b[38;5;28;01mraise\u001b[39;00m \u001b[38;5;167;01mFileNotFoundError\u001b[39;00m(\u001b[38;5;124mf\u001b[39m\u001b[38;5;124m\"\u001b[39m\u001b[38;5;124mNo such file or no access: \u001b[39m\u001b[38;5;124m'\u001b[39m\u001b[38;5;132;01m{\u001b[39;00mfilename\u001b[38;5;132;01m}\u001b[39;00m\u001b[38;5;124m'\u001b[39m\u001b[38;5;124m\"\u001b[39m)\n\u001b[1;32m     45\u001b[0m \u001b[38;5;28;01mif\u001b[39;00m stat_result\u001b[38;5;241m.\u001b[39mst_size \u001b[38;5;241m<\u001b[39m\u001b[38;5;241m=\u001b[39m \u001b[38;5;241m0\u001b[39m:\n\u001b[1;32m     46\u001b[0m     \u001b[38;5;28;01mraise\u001b[39;00m ImageFileError(\u001b[38;5;124mf\u001b[39m\u001b[38;5;124m\"\u001b[39m\u001b[38;5;124mEmpty file: \u001b[39m\u001b[38;5;124m'\u001b[39m\u001b[38;5;132;01m{\u001b[39;00mfilename\u001b[38;5;132;01m}\u001b[39;00m\u001b[38;5;124m'\u001b[39m\u001b[38;5;124m\"\u001b[39m)\n",
      "\u001b[0;31mFileNotFoundError\u001b[0m: No such file or no access: '../data/training/ribfrac-challenge/training/images/all/RibFrac1-image.nii.gz'"
     ]
    }
   ],
   "source": [
    "train_img = nib.load('../data/ribfrac-challenge/training/images/all/RibFrac1-image.nii.gz')\n",
    "label_img = nib.load('../data/ribfrac-challenge/training/labels/all/RibFrac1-label.nii.gz')"
   ]
  },
  {
   "cell_type": "code",
   "execution_count": null,
   "id": "fc83bc79",
   "metadata": {},
   "outputs": [],
   "source": [
    "print(\"training image shape:\", train_img.shape)\n",
    "print(\"label image shape:\", label_img.shape)"
   ]
  },
  {
   "cell_type": "code",
   "execution_count": null,
   "id": "ad887615",
   "metadata": {},
   "outputs": [],
   "source": [
    "train_img_data = train_img.get_fdata()\n",
    "label_img_data = label_img.get_fdata()"
   ]
  },
  {
   "cell_type": "code",
   "execution_count": null,
   "id": "3e38abb2",
   "metadata": {},
   "outputs": [],
   "source": [
    "plt.hist(label_img_data[label_img_data != 0].flatten())"
   ]
  },
  {
   "cell_type": "code",
   "execution_count": null,
   "id": "d9e8e15e",
   "metadata": {},
   "outputs": [],
   "source": [
    "def get_nonzero_slices(label_img, train_img):\n",
    "    label_slices = label_img.swapaxes(2, 0)\n",
    "    train_slices = train_img.swapaxes(2, 0)\n",
    "    sums = np.sum(label_slices, axis=(1,2))\n",
    "    label_slices = label_slices[sums > 0]\n",
    "    train_slices = train_slices[sums > 0]\n",
    "    return label_slices, train_slices"
   ]
  },
  {
   "cell_type": "code",
   "execution_count": null,
   "id": "acce1ac1",
   "metadata": {},
   "outputs": [],
   "source": [
    "label_slices, train_slices = get_nonzero_slices(label_img_data, train_img_data)"
   ]
  },
  {
   "cell_type": "code",
   "execution_count": null,
   "id": "a0756647",
   "metadata": {},
   "outputs": [],
   "source": [
    "# train_slices = exposure.equalize_hist(train_slices)"
   ]
  },
  {
   "cell_type": "code",
   "execution_count": null,
   "id": "c5960d1a",
   "metadata": {},
   "outputs": [],
   "source": [
    "fig, ax = plt.subplots(figsize = (8,8), dpi=140)\n",
    "ax.imshow(train_slices[0], cmap=plt.cm.gray)\n",
    "masked = np.ma.masked_where(label_slices[0] == 0, label_slices[0])\n",
    "ax.imshow(masked, cmap='jet', alpha=0.2) \n",
    "ax.set_axis_off()"
   ]
  },
  {
   "cell_type": "code",
   "execution_count": null,
   "id": "c01edc6d",
   "metadata": {},
   "outputs": [],
   "source": [
    "fig, ax = plt.subplots(figsize = (8,8), dpi=140)\n",
    "ax.imshow(train_slices[20], cmap=plt.cm.gray)\n",
    "\n",
    "masked = np.ma.masked_where(label_slices[20] == 0, label_slices[10])\n",
    "ax.imshow(masked, cmap='jet', alpha=0.3) \n",
    "ax.set_axis_off()"
   ]
  },
  {
   "cell_type": "code",
   "execution_count": null,
   "id": "892f0ce2",
   "metadata": {},
   "outputs": [],
   "source": []
  }
 ],
 "metadata": {
  "kernelspec": {
   "display_name": "Python 3 (ipykernel)",
   "language": "python",
   "name": "python3"
  },
  "language_info": {
   "codemirror_mode": {
    "name": "ipython",
    "version": 3
   },
   "file_extension": ".py",
   "mimetype": "text/x-python",
   "name": "python",
   "nbconvert_exporter": "python",
   "pygments_lexer": "ipython3",
   "version": "3.8.12"
  }
 },
 "nbformat": 4,
 "nbformat_minor": 5
}
